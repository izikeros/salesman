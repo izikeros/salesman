{
 "cells": [
  {
   "cell_type": "code",
   "execution_count": 2,
   "metadata": {},
   "outputs": [],
   "source": [
    "%reload_ext autoreload\n",
    "%autoreload 2"
   ]
  },
  {
   "cell_type": "code",
   "execution_count": 4,
   "metadata": {},
   "outputs": [
    {
     "name": "stdout",
     "output_type": "stream",
     "text": [
      "num cities: 80 num routes: 500\n"
     ]
    }
   ],
   "source": [
    "# config cities and initial population count\n",
    "num_cities = 80\n",
    "initial_population = 500\n",
    "n_triple_passes = 2\n",
    "n_pair_passes = 2\n",
    "n_epochs = 100\n",
    "\n",
    "# generate cities and tours\n",
    "# TODO: add seed to have reproducible maps\n",
    "cities = rand_cities(n_cities=num_cities)\n",
    "routes = generate_rand_routes(cities,\n",
    "                              n_routes=initial_population,\n",
    "                              n_cities=num_cities)\n",
    "print('num cities:', cities.shape[0], 'num routes:', len(routes))"
   ]
  },
  {
   "cell_type": "code",
   "execution_count": 8,
   "metadata": {},
   "outputs": [],
   "source": [
    "def epoch_run(cities, routes):\n",
    "    epoch = 0\n",
    "    # sort routes by the len\n",
    "    routes_sorted_indices, routes_len = sort_routes(routes)\n",
    "    display_tours_stats(routes_len, epoch)\n",
    "\n",
    "    # apply natural selection\n",
    "    routes, routes_len = natural_selection(routes, routes_sorted_indices,\n",
    "                                           routes_len)\n",
    "    display_tours_stats(routes_len, epoch_idx=' sel:')\n",
    "\n",
    "    # apply local optimizations\n",
    "    routes, gains = apply_local_optimizations(routes, n_triple_passes,\n",
    "                                              n_pair_passes,\n",
    "                                              verbose_lvl=0)\n",
    "    avg_gain = sum(gains) / len(gains)\n",
    "    print(f'avg gain from local optimizations: {avg_gain:.3f}%')\n",
    "\n",
    "    # create pairs of fathers and mothers\n",
    "    fathers_routes, mothers_routes = pair_matching(routes, n_new=100)\n",
    "\n",
    "    # reproduction - new generation of routes\n",
    "    routes = breed(fathers_routes, mothers_routes, cut_len=5)"
   ]
  },
  {
   "cell_type": "code",
   "execution_count": 10,
   "metadata": {},
   "outputs": [
    {
     "name": "stdout",
     "output_type": "stream",
     "text": [
      "epoch: 0, num: 500, min: 31.51,  avg: 41.10\n",
      "epoch:  sel:, num: 50, min: 31.51,  avg: 34.69\n",
      "avg gain from local optimizations: 7.266%\n",
      " "
     ]
    },
    {
     "data": {
      "text/plain": [
       "         2029392 function calls in 9.412 seconds\n",
       "\n",
       "   Ordered by: internal time\n",
       "\n",
       "   ncalls  tottime  percall  cumtime  percall filename:lineno(function)\n",
       "  1944000    8.027    0.000    8.027    0.000 salesman_darwin.py:208(distance)\n",
       "    24300    1.285    0.000    9.316    0.000 salesman_darwin.py:126(calc_length)\n",
       "      300    0.043    0.000    9.372    0.031 salesman_darwin.py:156(improve)\n",
       "     8000    0.020    0.000    0.020    0.000 salesman_darwin.py:19(tour_reverse_triple)\n",
       "    16000    0.009    0.000    0.009    0.000 salesman_darwin.py:8(tour_swap_2_next)\n",
       "    24607    0.005    0.000    0.005    0.000 {built-in method builtins.len}\n",
       "     2070    0.004    0.000    0.004    0.000 {method 'copy' of 'list' objects}\n",
       "        1    0.003    0.003    0.011    0.011 salesman_darwin.py:358(breed)\n",
       "       12    0.003    0.000    0.003    0.000 socket.py:333(send)\n",
       "        1    0.003    0.003    9.376    9.376 salesman_darwin.py:286(apply_local_optimizations)\n",
       "      200    0.002    0.000    0.002    0.000 {method 'sort' of 'list' objects}\n",
       "      500    0.001    0.000    0.003    0.000 salesman_darwin.py:96(set_tour)\n",
       "      100    0.001    0.000    0.001    0.000 {method 'randint' of 'mtrand.RandomState' objects}\n",
       "      100    0.001    0.000    0.001    0.000 salesman_darwin.py:393(<listcomp>)\n",
       "     1200    0.001    0.000    0.118    0.000 salesman_darwin.py:147(get_length)\n",
       "     5371    0.001    0.000    0.001    0.000 {method 'append' of 'list' objects}\n",
       "      100    0.001    0.000    0.001    0.000 salesman_darwin.py:392(<listcomp>)\n",
       "      100    0.001    0.000    0.002    0.000 random.py:283(sample)\n",
       "        2    0.000    0.000    0.000    0.000 salesman_darwin.py:228(calculate_capacity)\n",
       "      200    0.000    0.000    0.000    0.000 abc.py:180(__instancecheck__)\n",
       "        2    0.000    0.000    0.020    0.010 salesman_darwin.py:215(get_routes_len)\n",
       "      201    0.000    0.000    0.000    0.000 random.py:223(_randbelow)\n",
       "        2    0.000    0.000    0.000    0.000 {method 'choice' of 'mtrand.RandomState' objects}\n",
       "      211    0.000    0.000    0.001    0.000 {built-in method builtins.isinstance}\n",
       "      100    0.000    0.000    0.002    0.000 salesman_darwin.py:13(tour_swap_2_random)\n",
       "      300    0.000    0.000    0.000    0.000 _weakrefset.py:70(__contains__)\n",
       "      100    0.000    0.000    0.000    0.000 {method 'index' of 'list' objects}\n",
       "        1    0.000    0.000    0.001    0.001 salesman_darwin.py:243(natural_selection)\n",
       "      200    0.000    0.000    0.000    0.000 salesman_darwin.py:82(__init__)\n",
       "       10    0.000    0.000    0.003    0.000 iostream.py:366(write)\n",
       "        3    0.000    0.000    0.000    0.000 {built-in method builtins.sum}\n",
       "      200    0.000    0.000    0.000    0.000 salesman_darwin.py:90(get_num_cities)\n",
       "      318    0.000    0.000    0.000    0.000 {method 'getrandbits' of '_random.Random' objects}\n",
       "       12    0.000    0.000    0.003    0.000 iostream.py:195(schedule)\n",
       "        2    0.000    0.000    0.000    0.000 {built-in method numpy.core.multiarray.array}\n",
       "        3    0.000    0.000    0.000    0.000 {method 'reduce' of 'numpy.ufunc' objects}\n",
       "        2    0.000    0.000    0.000    0.000 {method 'argsort' of 'numpy.ndarray' objects}\n",
       "        1    0.000    0.000    0.000    0.000 salesman_darwin.py:354(<listcomp>)\n",
       "        1    0.000    0.000    9.412    9.412 <string>:1(<module>)\n",
       "        3    0.000    0.000    0.003    0.001 {built-in method builtins.print}\n",
       "        1    0.000    0.000    0.000    0.000 salesman_darwin.py:346(<listcomp>)\n",
       "        1    0.000    0.000    9.412    9.412 <ipython-input-8-10d7e0fbac0a>:1(epoch_run)\n",
       "        2    0.000    0.000    0.003    0.002 salesman_darwin.py:276(display_tours_stats)\n",
       "       12    0.000    0.000    0.000    0.000 threading.py:1104(is_alive)\n",
       "      200    0.000    0.000    0.000    0.000 {method 'add' of 'set' objects}\n",
       "      201    0.000    0.000    0.000    0.000 {method 'bit_length' of 'int' objects}\n",
       "        2    0.000    0.000    0.000    0.000 {built-in method builtins.min}\n",
       "        1    0.000    0.000    0.020    0.020 salesman_darwin.py:324(pair_matching)\n",
       "       10    0.000    0.000    0.000    0.000 iostream.py:300(_is_master_process)\n",
       "       12    0.000    0.000    0.000    0.000 {method 'acquire' of '_thread.lock' objects}\n",
       "        1    0.000    0.000    9.412    9.412 {built-in method builtins.exec}\n",
       "        4    0.000    0.000    0.000    0.000 numerictypes.py:631(issubclass_)\n",
       "       12    0.000    0.000    0.000    0.000 iostream.py:93(_event_pipe)\n",
       "        2    0.000    0.000    0.000    0.000 {built-in method numpy.core.multiarray.arange}\n",
       "       12    0.000    0.000    0.000    0.000 threading.py:1062(_wait_for_tstate_lock)\n",
       "        2    0.000    0.000    0.000    0.000 fromnumeric.py:50(_wrapfunc)\n",
       "       10    0.000    0.000    0.000    0.000 {built-in method nt.getpid}\n",
       "        2    0.000    0.000    0.000    0.000 fromnumeric.py:37(_wrapit)\n",
       "       10    0.000    0.000    0.000    0.000 iostream.py:313(_schedule_flush)\n",
       "        2    0.000    0.000    0.000    0.000 fromnumeric.py:2456(prod)\n",
       "        4    0.000    0.000    0.000    0.000 getlimits.py:376(__new__)\n",
       "        2    0.000    0.000    0.000    0.000 {built-in method numpy.core.multiarray.zeros}\n",
       "        2    0.000    0.000    0.020    0.010 salesman_darwin.py:264(sort_routes)\n",
       "        1    0.000    0.000    0.000    0.000 fromnumeric.py:1778(sum)\n",
       "        6    0.000    0.000    0.000    0.000 {built-in method builtins.issubclass}\n",
       "       12    0.000    0.000    0.000    0.000 threading.py:506(is_set)\n",
       "        2    0.000    0.000    0.000    0.000 fromnumeric.py:851(argsort)\n",
       "        2    0.000    0.000    0.000    0.000 numerictypes.py:699(issubdtype)\n",
       "        4    0.000    0.000    0.000    0.000 {built-in method builtins.getattr}\n",
       "        1    0.000    0.000    0.000    0.000 _methods.py:31(_sum)\n",
       "       12    0.000    0.000    0.000    0.000 {method 'append' of 'collections.deque' objects}\n",
       "        2    0.000    0.000    0.000    0.000 numeric.py:424(asarray)\n",
       "        4    0.000    0.000    0.000    0.000 {method 'get' of 'dict' objects}\n",
       "        2    0.000    0.000    0.000    0.000 _methods.py:34(_prod)\n",
       "        1    0.000    0.000    0.000    0.000 {method 'disable' of '_lsprof.Profiler' objects}"
      ]
     },
     "metadata": {},
     "output_type": "display_data"
    }
   ],
   "source": [
    "%prun epoch_run(cities, routes)"
   ]
  },
  {
   "cell_type": "code",
   "execution_count": null,
   "metadata": {},
   "outputs": [
    {
     "name": "stdout",
     "output_type": "stream",
     "text": [
      "num cities: 80 num routes: 500\n",
      "v1\n",
      "epoch: 0, num: 500, min: 38.58,  avg: 44.21\n",
      "v1\n",
      "epoch:  sel:, num: 50, min: 38.58,  avg: 40.47\n",
      "avg gain from local optimizations: 8.575%\n",
      "v1\n",
      "epoch: 1, num: 200, min: 33.77,  avg: 37.00\n",
      "v1\n",
      "epoch:  sel:, num: 20, min: 33.77,  avg: 34.52\n",
      "avg gain from local optimizations: 6.304%\n",
      "v1\n",
      "epoch: 2, num: 200, min: 30.80,  avg: 33.09\n",
      "v1\n",
      "epoch:  sel:, num: 20, min: 30.80,  avg: 31.40\n",
      "avg gain from local optimizations: 8.900%\n",
      "v1\n",
      "epoch: 3, num: 200, min: 27.16,  avg: 29.49\n",
      "v1\n",
      "epoch:  sel:, num: 20, min: 27.16,  avg: 27.56\n",
      "avg gain from local optimizations: 5.488%\n",
      "v1\n",
      "epoch: 4, num: 200, min: 24.39,  avg: 26.92\n",
      "v1\n",
      "epoch:  sel:, num: 20, min: 24.39,  avg: 25.12\n",
      "avg gain from local optimizations: 6.394%\n",
      "v1\n",
      "epoch: 5, num: 200, min: 22.53,  avg: 24.49\n",
      "v1\n",
      "epoch:  sel:, num: 20, min: 22.53,  avg: 22.71\n",
      "avg gain from local optimizations: 5.489%\n",
      "v1\n",
      "epoch: 6, num: 200, min: 20.78,  avg: 22.80\n",
      "v1\n",
      "epoch:  sel:, num: 20, min: 20.78,  avg: 21.24\n",
      "avg gain from local optimizations: 2.675%\n",
      "v1\n",
      "epoch: 7, num: 200, min: 19.85,  avg: 22.15\n",
      "v1\n",
      "epoch:  sel:, num: 20, min: 19.85,  avg: 20.47\n",
      "avg gain from local optimizations: 4.116%\n",
      "v1\n",
      "epoch: 8, num: 200, min: 18.08,  avg: 21.01\n",
      "v1\n",
      "epoch:  sel:, num: 20, min: 18.08,  avg: 19.15\n",
      "avg gain from local optimizations: 3.900%\n",
      "v1\n",
      "epoch: 9, num: 200, min: 17.33,  avg: 19.69\n",
      "v1\n",
      "epoch:  sel:, num: 20, min: 17.33,  avg: 17.90\n",
      "avg gain from local optimizations: 1.320%\n",
      "v1\n",
      "epoch: 10, num: 200, min: 17.12,  avg: 18.92\n",
      "v1\n",
      "epoch:  sel:, num: 20, min: 17.12,  avg: 17.36\n",
      "avg gain from local optimizations: 0.444%\n",
      "v1\n",
      "epoch: 11, num: 200, min: 16.83,  avg: 18.69\n",
      "v1\n",
      "epoch:  sel:, num: 20, min: 16.83,  avg: 17.22\n",
      "avg gain from local optimizations: 0.487%\n",
      "v1\n",
      "epoch: 12, num: 200, min: 16.57,  avg: 18.55\n",
      "v1\n",
      "epoch:  sel:, num: 20, min: 16.57,  avg: 16.91\n",
      "avg gain from local optimizations: 0.368%\n",
      "v1\n",
      "epoch: 13, num: 200, min: 16.35,  avg: 18.31\n",
      "v1\n",
      "epoch:  sel:, num: 20, min: 16.35,  avg: 16.74\n",
      "avg gain from local optimizations: 0.195%\n",
      "v1\n",
      "epoch: 14, num: 200, min: 16.48,  avg: 18.23\n",
      "v1\n",
      "epoch:  sel:, num: 20, min: 16.48,  avg: 16.71\n",
      "avg gain from local optimizations: 0.156%\n",
      "v1\n",
      "epoch: 15, num: 200, min: 16.24,  avg: 18.23\n",
      "v1\n",
      "epoch:  sel:, num: 20, min: 16.24,  avg: 16.52\n"
     ]
    }
   ],
   "source": [
    "\n",
    "\n",
    "for epoch in range(n_epochs):\n",
    "    # sort routes by the len\n",
    "    routes_sorted_indices, routes_len = sort_routes(routes)\n",
    "    display_tours_stats(routes_len, epoch)\n",
    "\n",
    "    # apply natural selection\n",
    "    routes, routes_len = natural_selection(routes, routes_sorted_indices,\n",
    "                                           routes_len)\n",
    "    display_tours_stats(routes_len, epoch_idx=' sel:')\n",
    "\n",
    "    # apply local optimizations\n",
    "    routes, gains = apply_local_optimizations(routes, n_triple_passes,\n",
    "                                              n_pair_passes,\n",
    "                                              verbose_lvl=0)\n",
    "    avg_gain = sum(gains) / len(gains)\n",
    "    print(f'avg gain from local optimizations: {avg_gain:.3f}%')\n",
    "\n",
    "    # create pairs of fathers and mothers\n",
    "    fathers_routes, mothers_routes = pair_matching(routes, n_new=100)\n",
    "\n",
    "    # reproduction - new generation of routes\n",
    "    routes = breed(fathers_routes, mothers_routes, cut_len=5)"
   ]
  },
  {
   "cell_type": "code",
   "execution_count": 11,
   "metadata": {},
   "outputs": [
    {
     "ename": "ModuleNotFoundError",
     "evalue": "No module named 'keras'",
     "output_type": "error",
     "traceback": [
      "\u001b[1;31m---------------------------------------------------------------------------\u001b[0m",
      "\u001b[1;31mModuleNotFoundError\u001b[0m                       Traceback (most recent call last)",
      "\u001b[1;32m<ipython-input-11-9c5e0a19b646>\u001b[0m in \u001b[0;36m<module>\u001b[1;34m()\u001b[0m\n\u001b[1;32m----> 1\u001b[1;33m \u001b[1;32mfrom\u001b[0m \u001b[0mkeras\u001b[0m\u001b[1;33m.\u001b[0m\u001b[0mmodels\u001b[0m \u001b[1;32mimport\u001b[0m \u001b[0mSequential\u001b[0m\u001b[1;33m\u001b[0m\u001b[0m\n\u001b[0m",
      "\u001b[1;31mModuleNotFoundError\u001b[0m: No module named 'keras'"
     ]
    }
   ],
   "source": [
    "from keras.models import Sequential"
   ]
  },
  {
   "cell_type": "code",
   "execution_count": null,
   "metadata": {},
   "outputs": [],
   "source": [
    "!conda install keras"
   ]
  },
  {
   "cell_type": "code",
   "execution_count": 6,
   "metadata": {},
   "outputs": [
    {
     "data": {
      "text/html": [
       "<script>\n",
       "  $(document).ready(function(){\n",
       "    $('div.prompt').hide();\n",
       "    $('div.back-to-top').hide();\n",
       "    $('nav#menubar').hide();\n",
       "    $('.breadcrumb').hide();\n",
       "    $('.hidden-print').hide();\n",
       "  });\n",
       "</script>\n",
       "\n",
       "<footer id=\"attribution\" style=\"float:right; color:#999; background:#fff;\">\n",
       "Created with Jupyter, delivered by Fastly, rendered by Rackspace.\n",
       "</footer>"
      ],
      "text/plain": [
       "<IPython.core.display.HTML object>"
      ]
     },
     "metadata": {},
     "output_type": "display_data"
    }
   ],
   "source": [
    "%%HTML\n",
    "<script>\n",
    "  $(document).ready(function(){\n",
    "    $('div.prompt').hide();\n",
    "    $('div.back-to-top').hide();\n",
    "    $('nav#menubar').hide();\n",
    "    $('.breadcrumb').hide();\n",
    "    $('.hidden-print').hide();\n",
    "  });\n",
    "</script>\n",
    "\n",
    "<footer id=\"attribution\" style=\"float:right; color:#999; background:#fff;\">\n",
    "Created with Jupyter, delivered by Fastly, rendered by Rackspace.\n",
    "</footer>"
   ]
  },
  {
   "cell_type": "code",
   "execution_count": null,
   "metadata": {},
   "outputs": [],
   "source": []
  }
 ],
 "metadata": {
  "kernelspec": {
   "display_name": "Python 3",
   "language": "python",
   "name": "python3"
  },
  "language_info": {
   "codemirror_mode": {
    "name": "ipython",
    "version": 3
   },
   "file_extension": ".py",
   "mimetype": "text/x-python",
   "name": "python",
   "nbconvert_exporter": "python",
   "pygments_lexer": "ipython3",
   "version": "3.6.5"
  }
 },
 "nbformat": 4,
 "nbformat_minor": 2
}
